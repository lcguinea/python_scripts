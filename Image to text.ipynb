{
 "cells": [
  {
   "cell_type": "code",
   "execution_count": 6,
   "metadata": {},
   "outputs": [
    {
     "name": "stdout",
     "output_type": "stream",
     "text": [
      "Text extraction completed.\n"
     ]
    }
   ],
   "source": [
    "import fitz  # PyMuPDF\n",
    "from pdf2image import convert_from_path\n",
    "import pytesseract\n",
    "from PIL import Image\n",
    "import os\n",
    "\n",
    "# Path to PDF\n",
    "pdf_path = \"/Users/luisguinea/Downloads/DATA ENTRY TYPING JOBS.pdf\"\n",
    "\n",
    "# Directory to store images temporarily\n",
    "output_dir = \"extracted_images\"\n",
    "os.makedirs(output_dir, exist_ok=True)\n",
    "\n",
    "# Convert PDF to images\n",
    "images = convert_from_path(pdf_path, dpi=300, fmt='png', output_folder=output_dir)\n",
    "\n",
    "# Set Tesseract executable path for macOS\n",
    "pytesseract.pytesseract.tesseract_cmd = '/opt/homebrew/bin/tesseract'\n",
    "\n",
    "# Iterate through images and apply OCR\n",
    "extracted_text = \"\"\n",
    "\n",
    "for image_path in os.listdir(output_dir):\n",
    "    image = Image.open(os.path.join(output_dir, image_path))\n",
    "    text = pytesseract.image_to_string(image)\n",
    "    extracted_text += text + \"\\n\"\n",
    "\n",
    "# Clean up (optional) - remove images after extracting text\n",
    "for image_path in os.listdir(output_dir):\n",
    "    os.remove(os.path.join(output_dir, image_path))\n",
    "os.rmdir(output_dir)\n",
    "\n",
    "# Save extracted text to a file\n",
    "with open(\"extracted_text.txt\", \"w\") as text_file:\n",
    "    text_file.write(extracted_text)\n",
    "\n",
    "print(\"Text extraction completed.\")"
   ]
  },
  {
   "cell_type": "code",
   "execution_count": 5,
   "metadata": {},
   "outputs": [
    {
     "name": "stdout",
     "output_type": "stream",
     "text": [
      "Text extraction from the first page completed.\n"
     ]
    }
   ],
   "source": [
    "import fitz  # PyMuPDF\n",
    "from pdf2image import convert_from_path\n",
    "import pytesseract\n",
    "from PIL import Image\n",
    "import os\n",
    "\n",
    "# Path to your PDF\n",
    "pdf_path = \"/Users/luisguinea/Downloads/DATA ENTRY TYPING JOBS.pdf\"\n",
    "\n",
    "# Directory to store images temporarily\n",
    "output_dir = \"extracted_images\"\n",
    "os.makedirs(output_dir, exist_ok=True)\n",
    "\n",
    "# Convert only the first page of the PDF to an image\n",
    "images = convert_from_path(pdf_path, dpi=300, fmt='png', output_folder=output_dir, first_page=1, last_page=20)\n",
    "\n",
    "# Set Tesseract executable path for macOS\n",
    "pytesseract.pytesseract.tesseract_cmd = '/opt/homebrew/bin/tesseract'\n",
    "\n",
    "# Apply OCR on the first image (first page only)\n",
    "extracted_text = \"\"\n",
    "if images:  # Check if any images were extracted\n",
    "    image_path = os.path.join(output_dir, images[0].filename)\n",
    "    image = Image.open(image_path)\n",
    "    text = pytesseract.image_to_string(image)\n",
    "    extracted_text += text + \"\\n\"\n",
    "\n",
    "# Clean up (optional) - remove images after extracting text\n",
    "for image_path in os.listdir(output_dir):\n",
    "    os.remove(os.path.join(output_dir, image_path))\n",
    "os.rmdir(output_dir)\n",
    "\n",
    "# Save extracted text to a file\n",
    "with open(\"extracted_text.txt\", \"w\") as text_file:\n",
    "    text_file.write(extracted_text)\n",
    "\n",
    "print(\"Text extraction from the first page completed.\")"
   ]
  },
  {
   "cell_type": "code",
   "execution_count": 7,
   "metadata": {},
   "outputs": [
    {
     "name": "stdout",
     "output_type": "stream",
     "text": [
      "Text file has been converted to Word document successfully.\n"
     ]
    }
   ],
   "source": [
    "from docx import Document\n",
    "\n",
    "# Path to the extracted text file\n",
    "txt_file_path = \"extracted_text.txt\"\n",
    "\n",
    "# Create a new Document\n",
    "doc = Document()\n",
    "\n",
    "# Open and read the text file\n",
    "with open(txt_file_path, 'r', encoding='utf-8') as file:\n",
    "    text = file.read()\n",
    "\n",
    "# Add the text to the Word document\n",
    "doc.add_paragraph(text)\n",
    "\n",
    "# Save the document\n",
    "doc.save(\"converted_text.docx\")\n",
    "\n",
    "print(\"Text file has been converted to Word document successfully.\")"
   ]
  },
  {
   "cell_type": "code",
   "execution_count": 8,
   "metadata": {},
   "outputs": [
    {
     "name": "stdout",
     "output_type": "stream",
     "text": [
      "Chapters have been sorted and saved to Word document successfully.\n"
     ]
    }
   ],
   "source": [
    "import re\n",
    "from docx import Document\n",
    "\n",
    "# Path to the extracted text file\n",
    "txt_file_path = \"extracted_text.txt\"\n",
    "\n",
    "# Read the text from the file\n",
    "with open(txt_file_path, 'r', encoding='utf-8') as file:\n",
    "    text = file.read()\n",
    "\n",
    "# Regular expression to match the chapter headers (e.g., \"62 EXTRACTS AND EXERCISES\")\n",
    "chapter_pattern = r\"(\\d+ EXTRACTS AND EXERCISES)\"\n",
    "\n",
    "# Split the text into chapters based on the chapter header pattern\n",
    "chapters = re.split(chapter_pattern, text)\n",
    "\n",
    "# Combine each matched header with its corresponding text content\n",
    "# Skip the first item if it doesn't start with a chapter header\n",
    "if not re.match(r\"\\d+ EXTRACTS AND EXERCISES\", chapters[0]):\n",
    "    chapters = chapters[1:]\n",
    "\n",
    "# Pair chapter numbers with their content\n",
    "chapter_content_pairs = [(chapters[i], chapters[i + 1].strip()) for i in range(0, len(chapters), 2)]\n",
    "\n",
    "# Sort the chapters based on the numerical value of their chapter number\n",
    "sorted_chapters = sorted(chapter_content_pairs, key=lambda x: int(x[0].split()[0]))\n",
    "\n",
    "# Create a new Word Document\n",
    "doc = Document()\n",
    "\n",
    "# Add the sorted chapters to the Word document\n",
    "for chapter_number, chapter_content in sorted_chapters:\n",
    "    doc.add_heading(chapter_number, level=1)\n",
    "    doc.add_paragraph(chapter_content)\n",
    "\n",
    "# Save the sorted document\n",
    "doc.save(\"sorted_chapters.docx\")\n",
    "\n",
    "print(\"Chapters have been sorted and saved to Word document successfully.\")"
   ]
  },
  {
   "cell_type": "code",
   "execution_count": null,
   "metadata": {},
   "outputs": [],
   "source": []
  }
 ],
 "metadata": {
  "kernelspec": {
   "display_name": "venv",
   "language": "python",
   "name": "python3"
  },
  "language_info": {
   "codemirror_mode": {
    "name": "ipython",
    "version": 3
   },
   "file_extension": ".py",
   "mimetype": "text/x-python",
   "name": "python",
   "nbconvert_exporter": "python",
   "pygments_lexer": "ipython3",
   "version": "3.8.2"
  }
 },
 "nbformat": 4,
 "nbformat_minor": 2
}
