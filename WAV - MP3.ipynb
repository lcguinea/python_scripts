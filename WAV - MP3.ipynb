{
 "cells": [
  {
   "cell_type": "code",
   "execution_count": 1,
   "metadata": {},
   "outputs": [
    {
     "name": "stdout",
     "output_type": "stream",
     "text": [
      "Convertido: /Users/luisguinea/Downloads/EL CHOJIN - CON TODO - 44.1KHZ-24BIT  MASTER FILES/03 GANÉ.wav a /Users/luisguinea/Downloads/03 GANÉ.mp3\n",
      "Convertido: /Users/luisguinea/Downloads/EL CHOJIN - CON TODO - 44.1KHZ-24BIT  MASTER FILES/02 NO ES EGOISMO.wav a /Users/luisguinea/Downloads/02 NO ES EGOISMO.mp3\n",
      "Convertido: /Users/luisguinea/Downloads/EL CHOJIN - CON TODO - 44.1KHZ-24BIT  MASTER FILES/11 LLUEVE.wav a /Users/luisguinea/Downloads/11 LLUEVE.mp3\n",
      "Convertido: /Users/luisguinea/Downloads/EL CHOJIN - CON TODO - 44.1KHZ-24BIT  MASTER FILES/08 QUE LES FOLLEN.wav a /Users/luisguinea/Downloads/08 QUE LES FOLLEN.mp3\n",
      "Convertido: /Users/luisguinea/Downloads/EL CHOJIN - CON TODO - 44.1KHZ-24BIT  MASTER FILES/06 TIRITAS DE DIBUJITOS.wav a /Users/luisguinea/Downloads/06 TIRITAS DE DIBUJITOS.mp3\n",
      "Convertido: /Users/luisguinea/Downloads/EL CHOJIN - CON TODO - 44.1KHZ-24BIT  MASTER FILES/10 Zapatos Polvorientos.wav a /Users/luisguinea/Downloads/10 Zapatos Polvorientos.mp3\n",
      "Convertido: /Users/luisguinea/Downloads/EL CHOJIN - CON TODO - 44.1KHZ-24BIT  MASTER FILES/01 MI HIMNO.wav a /Users/luisguinea/Downloads/01 MI HIMNO.mp3\n",
      "Convertido: /Users/luisguinea/Downloads/EL CHOJIN - CON TODO - 44.1KHZ-24BIT  MASTER FILES/05 SI HUBIERA OTRA OPORTUNIDAD.wav a /Users/luisguinea/Downloads/05 SI HUBIERA OTRA OPORTUNIDAD.mp3\n",
      "Convertido: /Users/luisguinea/Downloads/EL CHOJIN - CON TODO - 44.1KHZ-24BIT  MASTER FILES/07 CON TODO.wav a /Users/luisguinea/Downloads/07 CON TODO.mp3\n",
      "Convertido: /Users/luisguinea/Downloads/EL CHOJIN - CON TODO - 44.1KHZ-24BIT  MASTER FILES/09 LAS MENTIRAS QUE DECIMOS.wav a /Users/luisguinea/Downloads/09 LAS MENTIRAS QUE DECIMOS.mp3\n",
      "Convertido: /Users/luisguinea/Downloads/EL CHOJIN - CON TODO - 44.1KHZ-24BIT  MASTER FILES/04 SONRISA TATUÁ.wav a /Users/luisguinea/Downloads/04 SONRISA TATUÁ.mp3\n",
      "Conversión completada.\n"
     ]
    }
   ],
   "source": [
    "# Folder\n",
    "\n",
    "from pydub import AudioSegment\n",
    "import os\n",
    "\n",
    "# Ruta de la carpeta que contiene los archivos WAV\n",
    "input_folder = input(\"Introduce la ruta de la carpeta que contiene los archivos WAV: \")\n",
    "\n",
    "# Ruta de salida para los archivos MP3\n",
    "output_folder = '/Users/luisguinea/Downloads'\n",
    "\n",
    "# Asegúrate de que la carpeta de salida existe\n",
    "os.makedirs(output_folder, exist_ok=True)\n",
    "\n",
    "# Iterar sobre todos los archivos en la carpeta de entrada\n",
    "for filename in os.listdir(input_folder):\n",
    "    if filename.endswith('.wav'):\n",
    "        wav_path = os.path.join(input_folder, filename)\n",
    "        mp3_filename = os.path.splitext(filename)[0] + '.mp3'\n",
    "        mp3_path = os.path.join(output_folder, mp3_filename)\n",
    "\n",
    "        # Cargar el archivo WAV\n",
    "        audio = AudioSegment.from_wav(wav_path)\n",
    "\n",
    "        # Exportar como MP3\n",
    "        audio.export(mp3_path, format='mp3')\n",
    "        print(f'Convertido: {wav_path} a {mp3_path}')\n",
    "\n",
    "print(\"Conversión completada.\")"
   ]
  },
  {
   "cell_type": "code",
   "execution_count": 3,
   "metadata": {},
   "outputs": [
    {
     "name": "stdout",
     "output_type": "stream",
     "text": [
      "Convertido: /Users/luisguinea/Downloads/PEER/Reflejo - Xhey x Vladi x Alcover Master Final.wav a /Users/luisguinea/Downloads/Reflejo - Xhey x Vladi x Alcover Master Final.mp3\n",
      "Conversión completada.\n"
     ]
    }
   ],
   "source": [
    "# Single file\n",
    "\n",
    "from pydub import AudioSegment\n",
    "import os\n",
    "\n",
    "# Ruta del archivo WAV a convertir\n",
    "input_wav_file = input(\"Introduce la ruta del archivo WAV a convertir: \")\n",
    "\n",
    "# Extraer el nombre base del archivo WAV\n",
    "base_name = os.path.splitext(os.path.basename(input_wav_file))[0]\n",
    "\n",
    "# Ruta de salida para el archivo MP3 con el mismo nombre base\n",
    "output_mp3_file = f'/Users/luisguinea/Downloads/{base_name}.mp3'\n",
    "\n",
    "# Asegúrate de que la carpeta de salida existe\n",
    "output_folder = os.path.dirname(output_mp3_file)\n",
    "os.makedirs(output_folder, exist_ok=True)\n",
    "\n",
    "# Cargar el archivo WAV\n",
    "audio = AudioSegment.from_wav(input_wav_file)\n",
    "\n",
    "# Exportar como MP3\n",
    "audio.export(output_mp3_file, format='mp3')\n",
    "print(f'Convertido: {input_wav_file} a {output_mp3_file}')\n",
    "\n",
    "print(\"Conversión completada.\")"
   ]
  },
  {
   "cell_type": "code",
   "execution_count": null,
   "metadata": {},
   "outputs": [],
   "source": []
  }
 ],
 "metadata": {
  "kernelspec": {
   "display_name": "venv",
   "language": "python",
   "name": "python3"
  },
  "language_info": {
   "codemirror_mode": {
    "name": "ipython",
    "version": 3
   },
   "file_extension": ".py",
   "mimetype": "text/x-python",
   "name": "python",
   "nbconvert_exporter": "python",
   "pygments_lexer": "ipython3",
   "version": "3.9.6"
  }
 },
 "nbformat": 4,
 "nbformat_minor": 2
}
