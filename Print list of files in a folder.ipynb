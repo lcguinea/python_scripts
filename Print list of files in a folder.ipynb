{
 "cells": [
  {
   "cell_type": "code",
   "execution_count": 6,
   "metadata": {},
   "outputs": [
    {
     "name": "stdout",
     "output_type": "stream",
     "text": [
      "Todos los archivos: ['.DS_Store', 'Born Supernatural.mp3', 'Running Out Of Time.mp3', 'Set me Free.mp3', 'Time and Time Again.mp3', 'Winds of Heaven.mp3', 'LETRAS', 'Black Mary Suicide.mp3', 'Sat on a Time Bomb.mp3', 'Maybe Tomorrow.mp3', 'It´s About You.mp3', 'Burn it Down.mp3', 'World on Fire.mp3', 'Destiny.mp3', 'Sticks and Stones.mp3', 'Destination Unknown.mp3']\n",
      "Archivos filtrados y estandarizados: ['.Ds_Store', 'Born Supernatural', 'Running Out Of Time', 'Set Me Free', 'Time And Time Again', 'Winds Of Heaven', 'Black Mary Suicide', 'Sat On A Time Bomb', 'Maybe Tomorrow', 'It´S About You', 'Burn It Down', 'World On Fire', 'Destiny', 'Sticks And Stones', 'Destination Unknown']\n",
      ".Ds_Store\n",
      "Born Supernatural\n",
      "Running Out Of Time\n",
      "Set Me Free\n",
      "Time And Time Again\n",
      "Winds Of Heaven\n",
      "Black Mary Suicide\n",
      "Sat On A Time Bomb\n",
      "Maybe Tomorrow\n",
      "It´S About You\n",
      "Burn It Down\n",
      "World On Fire\n",
      "Destiny\n",
      "Sticks And Stones\n",
      "Destination Unknown\n"
     ]
    }
   ],
   "source": [
    "import os\n",
    "\n",
    "def scan_directory(directory):\n",
    "    try:\n",
    "        # Listar todos los archivos en el directorio dado\n",
    "        files = os.listdir(directory)\n",
    "        print(\"Todos los archivos:\", files)  # Declaración de depuración\n",
    "        \n",
    "        # Filtrar archivos con la extensión .docx y estandarizar nombres\n",
    "        cleaned_files = [os.path.splitext(file)[0].title() for file in files if os.path.isfile(os.path.join(directory, file)) and '.' in file]\n",
    "        print(\"Archivos filtrados y estandarizados:\", cleaned_files)  # Declaración de depuración\n",
    "        \n",
    "        # Imprimir la lista resultante de nombres de archivo\n",
    "        for file in cleaned_files:\n",
    "            print(file)\n",
    "    \n",
    "    except Exception as e:\n",
    "        print(f\"Ocurrió un error: {e}\")\n",
    "\n",
    "# Ejemplo de uso\n",
    "directory_path = input(\"Ingrese la ruta del directorio que desea escanear: \")\n",
    "scan_directory(directory_path)"
   ]
  },
  {
   "cell_type": "code",
   "execution_count": null,
   "metadata": {},
   "outputs": [],
   "source": []
  }
 ],
 "metadata": {
  "kernelspec": {
   "display_name": "venv",
   "language": "python",
   "name": "python3"
  },
  "language_info": {
   "codemirror_mode": {
    "name": "ipython",
    "version": 3
   },
   "file_extension": ".py",
   "mimetype": "text/x-python",
   "name": "python",
   "nbconvert_exporter": "python",
   "pygments_lexer": "ipython3",
   "version": "3.8.2"
  }
 },
 "nbformat": 4,
 "nbformat_minor": 2
}
