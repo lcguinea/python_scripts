{
 "cells": [
  {
   "cell_type": "code",
   "execution_count": 3,
   "metadata": {},
   "outputs": [
    {
     "name": "stdout",
     "output_type": "stream",
     "text": [
      "Report generated and saved to /Users/luisguinea/Library/CloudStorage/GoogleDrive-luis.guinea@recmusica.com/Mi unidad/Peermusic/Catálogo Pep's Music/Popular_Tracks_Report.csv\n"
     ]
    }
   ],
   "source": [
    "import pandas as pd\n",
    "\n",
    "# File paths\n",
    "file1 = '/Users/luisguinea/Library/CloudStorage/GoogleDrive-luis.guinea@recmusica.com/Mi unidad/Peermusic/Catálogo Pep\\'s Music/Repertorio-108450.csv'\n",
    "file2 = '/Users/luisguinea/Library/CloudStorage/GoogleDrive-luis.guinea@recmusica.com/Mi unidad/Peermusic/Catálogo Pep\\'s Music/standardized_track_metadata.csv'\n",
    "output_file = '/Users/luisguinea/Library/CloudStorage/GoogleDrive-luis.guinea@recmusica.com/Mi unidad/Peermusic/Catálogo Pep\\'s Music/Popular_Tracks_Report.csv'\n",
    "\n",
    "# Read the CSV files into pandas dataframes with ';' as the separator\n",
    "df1 = pd.read_csv(file1, sep=';')\n",
    "df2 = pd.read_csv(file2, sep=',')\n",
    "\n",
    "# Ensure there are no leading/trailing spaces in column names\n",
    "df1.columns = df1.columns.str.strip()\n",
    "df2.columns = df2.columns.str.strip()\n",
    "\n",
    "# Create a lookup dictionary from df1\n",
    "lookup_dict = df1.set_index('Track Name')['Copyright Holder'].to_dict()\n",
    "\n",
    "# Function to perform the lookup\n",
    "def lookup_copyright_holder(track_name):\n",
    "    return lookup_dict.get(track_name, None)\n",
    "\n",
    "# Apply the lookup function to df2\n",
    "df2['Copyright Holder'] = df2['Track Name'].apply(lookup_copyright_holder)\n",
    "\n",
    "# Select the required columns for the output\n",
    "output_df = df2[['Track Name', 'Artist', 'Copyright Holder', 'Popularity', 'Spotify Link']]\n",
    "\n",
    "# Sort the dataframe by 'Popularity' in descending order\n",
    "output_df = output_df.sort_values(by='Popularity', ascending=False)\n",
    "\n",
    "# Save the result to a new CSV file\n",
    "output_df.to_csv(output_file, index=False)\n",
    "\n",
    "print(f'Report generated and saved to {output_file}')"
   ]
  },
  {
   "cell_type": "code",
   "execution_count": null,
   "metadata": {},
   "outputs": [],
   "source": []
  }
 ],
 "metadata": {
  "kernelspec": {
   "display_name": "venv",
   "language": "python",
   "name": "python3"
  },
  "language_info": {
   "codemirror_mode": {
    "name": "ipython",
    "version": 3
   },
   "file_extension": ".py",
   "mimetype": "text/x-python",
   "name": "python",
   "nbconvert_exporter": "python",
   "pygments_lexer": "ipython3",
   "version": "3.8.2"
  }
 },
 "nbformat": 4,
 "nbformat_minor": 2
}
