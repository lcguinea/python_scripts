{
 "cells": [
  {
   "cell_type": "code",
   "execution_count": 7,
   "metadata": {},
   "outputs": [
    {
     "name": "stdout",
     "output_type": "stream",
     "text": [
      "Could not find metadata for 'Tam Tam Go! - Piel Sobre Piel (feat. Maico).mp3'.\n",
      "Could not find metadata for 'Tam Tam Go! - Belleza Pasajera (feat. Coti).mp3'.\n",
      "Updated album metadata for 'Tam Tam Go! - Atrapados En La Red.mp3'.\n",
      "Could not find metadata for 'Tam Tam Go! - Caer a Tus Pies (feat. Mikel Erentxun).mp3'.\n",
      "Updated album metadata for 'Tam Tam Go! - Lucía De Los Cartones.mp3'.\n",
      "Could not find metadata for 'Tam Tam Go! - Pasarán (feat. Antonio Vega).mp3'.\n",
      "Could not find metadata for 'Tam Tam Go! - Espaldas Mojadas (feat. Mikel Izal).mp3'.\n",
      "Could not find metadata for 'Tam Tam Go! - Manuel Raquel (feat. Manuela Vellés).mp3'.\n",
      "Updated album metadata for 'Tam Tam Go! - I Come For You.mp3'.\n",
      "Could not find metadata for 'Tam Tam Go! - Un Juramento Entre Tú y Yo (feat. Txetxu Altube).mp3'.\n"
     ]
    }
   ],
   "source": [
    "import os\n",
    "import re\n",
    "from mutagen.easyid3 import EasyID3\n",
    "from spotipy import Spotify\n",
    "from spotipy.oauth2 import SpotifyClientCredentials\n",
    "\n",
    "# Configura tus credenciales de Spotify\n",
    "SPOTIPY_CLIENT_ID = 'your_spotify_client_id'\n",
    "SPOTIPY_CLIENT_SECRET = 'your_spotify_client_secret'\n",
    "\n",
    "def get_spotify_client():\n",
    "    auth_manager = SpotifyClientCredentials(client_id=SPOTIPY_CLIENT_ID, client_secret=SPOTIPY_CLIENT_SECRET)\n",
    "    return Spotify(auth_manager=auth_manager)\n",
    "\n",
    "def extract_artist_and_track(file_name):\n",
    "    match = re.match(r'(.+?) - (.+)\\.mp3', file_name)\n",
    "    if match:\n",
    "        return match.group(1), match.group(2)\n",
    "    return None, None\n",
    "\n",
    "def search_track_on_spotify(sp, artist_name, track_name):\n",
    "    query = f'artist:{artist_name} track:{track_name}'\n",
    "    results = sp.search(q=query, type='track', limit=1)\n",
    "    tracks = results.get('tracks', {}).get('items', [])\n",
    "    if tracks:\n",
    "        return tracks[0]\n",
    "    return None\n",
    "\n",
    "def update_album_metadata(file_path, album_name):\n",
    "    audio = EasyID3(file_path)\n",
    "    audio['album'] = album_name\n",
    "    audio.save()\n",
    "\n",
    "def process_folder(folder_path):\n",
    "    if not os.path.exists(folder_path):\n",
    "        raise FileNotFoundError(f\"The folder {folder_path} does not exist.\")\n",
    "    \n",
    "    sp = get_spotify_client()\n",
    "    \n",
    "    for file in os.listdir(folder_path):\n",
    "        if file.endswith(\".mp3\"):\n",
    "            file_path = os.path.join(folder_path, file)\n",
    "            artist_name, track_name = extract_artist_and_track(file)\n",
    "            \n",
    "            if artist_name and track_name:\n",
    "                track_metadata = search_track_on_spotify(sp, artist_name, track_name)\n",
    "                \n",
    "                if track_metadata:\n",
    "                    album_name = track_metadata['album']['name']\n",
    "                    update_album_metadata(file_path, album_name)\n",
    "                    print(f\"Updated album metadata for '{file}'.\")\n",
    "                else:\n",
    "                    print(f\"Could not find metadata for '{file}'.\")\n",
    "            else:\n",
    "                print(f\"Skipping file '{file}' due to incorrect format.\")\n",
    "\n",
    "def main():\n",
    "    folder_path = input(\"Enter the path to the folder with MP3 files: \")\n",
    "    process_folder(folder_path)\n",
    "\n",
    "if __name__ == '__main__':\n",
    "    main()"
   ]
  },
  {
   "cell_type": "code",
   "execution_count": null,
   "metadata": {},
   "outputs": [],
   "source": []
  }
 ],
 "metadata": {
  "kernelspec": {
   "display_name": "venv",
   "language": "python",
   "name": "python3"
  },
  "language_info": {
   "codemirror_mode": {
    "name": "ipython",
    "version": 3
   },
   "file_extension": ".py",
   "mimetype": "text/x-python",
   "name": "python",
   "nbconvert_exporter": "python",
   "pygments_lexer": "ipython3",
   "version": "3.9.6"
  }
 },
 "nbformat": 4,
 "nbformat_minor": 2
}
