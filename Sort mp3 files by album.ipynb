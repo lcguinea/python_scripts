{
 "cells": [
  {
   "cell_type": "code",
   "execution_count": 1,
   "metadata": {},
   "outputs": [
    {
     "name": "stdout",
     "output_type": "stream",
     "text": [
      "Files sorted by album successfully.\n"
     ]
    }
   ],
   "source": [
    "import os\n",
    "import shutil\n",
    "from mutagen.mp3 import MP3\n",
    "from mutagen.id3 import ID3\n",
    "\n",
    "# Path to the folder containing MP3 files\n",
    "source_folder = input(\"Enter the path to the folder containing MP3 files: \")\n",
    "\n",
    "# Function to get album name from MP3 file\n",
    "def get_album_name(file_path):\n",
    "    audio = MP3(file_path, ID3=ID3)\n",
    "    if 'TALB' in audio:\n",
    "        return audio['TALB'].text[0]\n",
    "    return 'Unknown Album'\n",
    "\n",
    "# Iterate over all files in the source folder\n",
    "for filename in os.listdir(source_folder):\n",
    "    if filename.endswith('.mp3'):\n",
    "        file_path = os.path.join(source_folder, filename)\n",
    "        album_name = get_album_name(file_path)\n",
    "        \n",
    "        # Create album folder if it doesn't exist\n",
    "        album_folder = os.path.join(source_folder, album_name)\n",
    "        if not os.path.exists(album_folder):\n",
    "            os.makedirs(album_folder)\n",
    "        \n",
    "        # Move file to the album folder\n",
    "        shutil.move(file_path, os.path.join(album_folder, filename))\n",
    "\n",
    "print(\"Files sorted by album successfully.\")"
   ]
  },
  {
   "cell_type": "code",
   "execution_count": 1,
   "metadata": {},
   "outputs": [
    {
     "name": "stdout",
     "output_type": "stream",
     "text": [
      "Files sorted by artist successfully.\n"
     ]
    }
   ],
   "source": [
    "# Sort by artist\n",
    "\n",
    "import os\n",
    "import shutil\n",
    "from mutagen.mp3 import MP3\n",
    "from mutagen.id3 import ID3\n",
    "\n",
    "# Path to the folder containing MP3 files\n",
    "source_folder = input(\"Enter the path to the folder containing MP3 files: \")\n",
    "\n",
    "# Function to get artist name from MP3 file\n",
    "def get_artist_name(file_path):\n",
    "    audio = MP3(file_path, ID3=ID3)\n",
    "    if 'TPE1' in audio:\n",
    "        return audio['TPE1'].text[0]\n",
    "    return 'Unknown Artist'\n",
    "\n",
    "# Iterate over all files in the source folder\n",
    "for filename in os.listdir(source_folder):\n",
    "    if filename.endswith('.mp3'):\n",
    "        file_path = os.path.join(source_folder, filename)\n",
    "        artist_name = get_artist_name(file_path)\n",
    "        \n",
    "        # Create artist folder if it doesn't exist\n",
    "        artist_folder = os.path.join(source_folder, artist_name)\n",
    "        if not os.path.exists(artist_folder):\n",
    "            os.makedirs(artist_folder)\n",
    "        \n",
    "        # Move file to the artist folder\n",
    "        shutil.move(file_path, os.path.join(artist_folder, filename))\n",
    "\n",
    "print(\"Files sorted by artist successfully.\")"
   ]
  },
  {
   "cell_type": "code",
   "execution_count": null,
   "metadata": {},
   "outputs": [],
   "source": []
  }
 ],
 "metadata": {
  "kernelspec": {
   "display_name": "venv",
   "language": "python",
   "name": "python3"
  },
  "language_info": {
   "codemirror_mode": {
    "name": "ipython",
    "version": 3
   },
   "file_extension": ".py",
   "mimetype": "text/x-python",
   "name": "python",
   "nbconvert_exporter": "python",
   "pygments_lexer": "ipython3",
   "version": "3.9.6"
  }
 },
 "nbformat": 4,
 "nbformat_minor": 2
}
