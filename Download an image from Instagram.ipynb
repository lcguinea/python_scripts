{
 "cells": [
  {
   "cell_type": "code",
   "execution_count": 1,
   "metadata": {},
   "outputs": [
    {
     "name": "stdout",
     "output_type": "stream",
     "text": [
      "Image URL: https://scontent-mad2-1.cdninstagram.com/v/t51.29350-15/447310204_468847838856178_3978910815474057993_n.jpg?stp=c288.0.864.864a_dst-jpg_s640x640&_nc_cat=111&ccb=1-7&_nc_sid=18de74&_nc_ohc=Epm98w3Mx2UQ7kNvgHYOfqB&_nc_ht=scontent-mad2-1.cdninstagram.com&oh=00_AYB3iqou6S6GH-DNLI40E6A0XYBUxc0EBYWsBhPpmawuUA&oe=66AFDA10\n",
      "Image downloaded and saved as downloaded_image.jpg\n"
     ]
    }
   ],
   "source": [
    "import requests\n",
    "from bs4 import BeautifulSoup\n",
    "import urllib.request\n",
    "\n",
    "def get_instagram_post_image_url(post_url):\n",
    "    # Send GET request to the Instagram post URL\n",
    "    response = requests.get(post_url)\n",
    "    if response.status_code != 200:\n",
    "        print(f\"Failed to retrieve post: {post_url}\")\n",
    "        return None\n",
    "\n",
    "    # Parse the HTML content using BeautifulSoup\n",
    "    soup = BeautifulSoup(response.text, 'html.parser')\n",
    "\n",
    "    # Look for the image URL in the meta tags\n",
    "    image_url = None\n",
    "    for meta_tag in soup.find_all('meta'):\n",
    "        if meta_tag.get('property') == 'og:image':\n",
    "            image_url = meta_tag.get('content')\n",
    "            break\n",
    "\n",
    "    return image_url\n",
    "\n",
    "def download_image(image_url, save_path):\n",
    "    urllib.request.urlretrieve(image_url, save_path)\n",
    "    print(f\"Image downloaded and saved as {save_path}\")\n",
    "\n",
    "def main():\n",
    "    # Instagram post URL\n",
    "    post_url = 'https://www.instagram.com/p/C7ocE3Ii5CH/?img_index=1'  # Replace with the actual post URL\n",
    "\n",
    "    # Get the image URL\n",
    "    image_url = get_instagram_post_image_url(post_url)\n",
    "\n",
    "    if image_url:\n",
    "        print(f\"Image URL: {image_url}\")\n",
    "        # Download the image\n",
    "        download_image(image_url, 'downloaded_image.jpg')\n",
    "    else:\n",
    "        print(\"Image URL not found.\")\n",
    "\n",
    "if __name__ == '__main__':\n",
    "    main()"
   ]
  },
  {
   "cell_type": "code",
   "execution_count": null,
   "metadata": {},
   "outputs": [],
   "source": []
  }
 ],
 "metadata": {
  "kernelspec": {
   "display_name": "venv",
   "language": "python",
   "name": "python3"
  },
  "language_info": {
   "codemirror_mode": {
    "name": "ipython",
    "version": 3
   },
   "file_extension": ".py",
   "mimetype": "text/x-python",
   "name": "python",
   "nbconvert_exporter": "python",
   "pygments_lexer": "ipython3",
   "version": "3.8.2"
  }
 },
 "nbformat": 4,
 "nbformat_minor": 2
}
