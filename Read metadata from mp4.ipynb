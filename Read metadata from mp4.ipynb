{
 "cells": [
  {
   "cell_type": "code",
   "execution_count": 1,
   "metadata": {},
   "outputs": [
    {
     "name": "stdout",
     "output_type": "stream",
     "text": [
      "\n",
      "Metadata of the .m4a file:\n",
      "\n",
      "title: ['Adiós']\n",
      "album: ['Sidecars']\n",
      "artist: ['Sidecars']\n",
      "albumartist: ['Sidecars']\n",
      "date: ['2008']\n",
      "comment: ['Rock, Indie, Male vocal, Percussion, Electric guitar, Drums, Bass, Uplifting, Upbeat, Reflective, Fun, Bright, Midtempo']\n",
      "grouping: ['Peermusic Española']\n",
      "genre: ['Alternativa y rock en español']\n",
      "copyright: ['℗ 2008 Allison Music, S.L./SBME España, S.L.']\n",
      "albumsort: ['Sidecars']\n",
      "artistsort: ['Sidecars']\n",
      "titlesort: ['Adiós']\n",
      "bpm: ['107']\n",
      "tracknumber: ['4/11']\n",
      "discnumber: ['1/1']\n"
     ]
    }
   ],
   "source": [
    "import os\n",
    "from mutagen.easymp4 import EasyMP4\n",
    "\n",
    "def read_m4a_metadata(file_path):\n",
    "    if not os.path.exists(file_path):\n",
    "        raise FileNotFoundError(f\"The file {file_path} does not exist.\")\n",
    "    \n",
    "    audio = EasyMP4(file_path)\n",
    "    metadata = {}\n",
    "    \n",
    "    for key in audio.keys():\n",
    "        metadata[key] = audio[key]\n",
    "    \n",
    "    return metadata\n",
    "\n",
    "def main():\n",
    "    file_path = input(\"Enter the path to the .m4a file: \")\n",
    "    metadata = read_m4a_metadata(file_path)\n",
    "    \n",
    "    print(\"\\nMetadata of the .m4a file:\\n\")\n",
    "    for key, value in metadata.items():\n",
    "        print(f\"{key}: {value}\")\n",
    "\n",
    "if __name__ == '__main__':\n",
    "    main()"
   ]
  },
  {
   "cell_type": "code",
   "execution_count": 2,
   "metadata": {},
   "outputs": [
    {
     "name": "stdout",
     "output_type": "stream",
     "text": [
      "\n",
      "Metadata of the .m4a file:\n",
      "\n",
      "title: ['Adiós']\n",
      "album: ['Sidecars']\n",
      "artist: ['Sidecars']\n",
      "albumartist: ['Sidecars']\n",
      "date: ['2008']\n",
      "comment: ['Rock, Indie, Male vocal, Percussion, Electric guitar, Drums, Bass, Uplifting, Upbeat, Reflective, Fun, Bright, Midtempo']\n",
      "grouping: ['Peermusic Española']\n",
      "genre: ['Alternativa y rock en español']\n",
      "copyright: ['℗ 2008 Allison Music, S.L./SBME España, S.L.']\n",
      "albumsort: ['Sidecars']\n",
      "artistsort: ['Sidecars']\n",
      "titlesort: ['Adiós']\n",
      "bpm: ['107']\n",
      "tracknumber: ['4/11']\n",
      "discnumber: ['1/1']\n",
      "\n",
      "No lyrics found in metadata.\n"
     ]
    }
   ],
   "source": [
    "import os\n",
    "from mutagen.easymp4 import EasyMP4\n",
    "\n",
    "def read_m4a_metadata(file_path):\n",
    "    if not os.path.exists(file_path):\n",
    "        raise FileNotFoundError(f\"The file {file_path} does not exist.\")\n",
    "    \n",
    "    audio = EasyMP4(file_path)\n",
    "    metadata = {}\n",
    "    \n",
    "    for key in audio.keys():\n",
    "        metadata[key] = audio[key]\n",
    "    \n",
    "    return metadata\n",
    "\n",
    "def main():\n",
    "    file_path = input(\"Enter the path to the .m4a file: \")\n",
    "    metadata = read_m4a_metadata(file_path)\n",
    "    \n",
    "    print(\"\\nMetadata of the .m4a file:\\n\")\n",
    "    for key, value in metadata.items():\n",
    "        print(f\"{key}: {value}\")\n",
    "    \n",
    "    if 'lyrics' in metadata:\n",
    "        print(\"\\nLyrics found in metadata:\\n\")\n",
    "        print(metadata['lyrics'])\n",
    "    else:\n",
    "        print(\"\\nNo lyrics found in metadata.\")\n",
    "\n",
    "if __name__ == '__main__':\n",
    "    main()"
   ]
  },
  {
   "cell_type": "code",
   "execution_count": 3,
   "metadata": {},
   "outputs": [
    {
     "name": "stdout",
     "output_type": "stream",
     "text": [
      "Files in the folder /Users/luisguinea/Downloads/peermusic - Mago de Oz - Finisterra:\n",
      "\n",
      "1-06 El Señor De Los Gramillos.mp3\n",
      "1-05 Hasta Que El Cuerpo Aguante.mp3\n",
      "1-08 Maite Zaitut.mp3\n",
      "1-07 Polla Dura No Cree En Dios.mp3\n",
      "1-01 Prólogo.mp3\n",
      "1-09 Duerme....mp3\n",
      "1-04 La Danza Del Fuego.mp3\n",
      "1-10 Es Hora De Marchar.mp3\n",
      "1-03 La Cruz De Santiago.mp3\n",
      "1-02 Satania.mp3\n"
     ]
    }
   ],
   "source": [
    "import os\n",
    "\n",
    "def list_files_in_folder(folder_path):\n",
    "    if not os.path.exists(folder_path):\n",
    "        raise FileNotFoundError(f\"The folder {folder_path} does not exist.\")\n",
    "    \n",
    "    if not os.path.isdir(folder_path):\n",
    "        raise NotADirectoryError(f\"The path {folder_path} is not a directory.\")\n",
    "    \n",
    "    files = os.listdir(folder_path)\n",
    "    \n",
    "    if not files:\n",
    "        print(f\"No files found in the folder {folder_path}.\")\n",
    "        return\n",
    "    \n",
    "    print(f\"Files in the folder {folder_path}:\\n\")\n",
    "    for file in files:\n",
    "        print(file)\n",
    "\n",
    "def main():\n",
    "    folder_path = input(\"Enter the path to the folder: \")\n",
    "    list_files_in_folder(folder_path)\n",
    "\n",
    "if __name__ == '__main__':\n",
    "    main()"
   ]
  },
  {
   "cell_type": "code",
   "execution_count": null,
   "metadata": {},
   "outputs": [],
   "source": []
  }
 ],
 "metadata": {
  "kernelspec": {
   "display_name": "venv",
   "language": "python",
   "name": "python3"
  },
  "language_info": {
   "codemirror_mode": {
    "name": "ipython",
    "version": 3
   },
   "file_extension": ".py",
   "mimetype": "text/x-python",
   "name": "python",
   "nbconvert_exporter": "python",
   "pygments_lexer": "ipython3",
   "version": "3.8.2"
  }
 },
 "nbformat": 4,
 "nbformat_minor": 2
}
