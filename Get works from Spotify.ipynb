{
 "cells": [
  {
   "cell_type": "code",
   "execution_count": 1,
   "metadata": {},
   "outputs": [],
   "source": [
    "import requests\n",
    "import base64\n",
    "\n",
    "# Replace with your Spotify app credentials\n",
    "CLIENT_ID = '523845d27c624a12b04290f3089bfc68'\n",
    "CLIENT_SECRET = 'cc8c969c977d4a51a8dbe8204751f74b'\n",
    "\n",
    "def get_spotify_token():\n",
    "    \"\"\"Get Spotify API token.\"\"\"\n",
    "    auth_url = 'https://accounts.spotify.com/api/token'\n",
    "    headers = {\n",
    "        'Authorization': 'Basic ' + base64.b64encode(f'{CLIENT_ID}:{CLIENT_SECRET}'.encode()).decode('ascii'),\n",
    "        'Content-Type': 'application/x-www-form-urlencoded'\n",
    "    }\n",
    "    data = {\n",
    "        'grant_type': 'client_credentials'\n",
    "    }\n",
    "    response = requests.post(auth_url, headers=headers, data=data)\n",
    "    response.raise_for_status()\n",
    "    token_info = response.json()\n",
    "    return token_info['access_token']\n",
    "\n",
    "token = get_spotify_token()"
   ]
  },
  {
   "cell_type": "code",
   "execution_count": 2,
   "metadata": {},
   "outputs": [
    {
     "name": "stdout",
     "output_type": "stream",
     "text": [
      "Artist ID: 15o4xwiKZWJ6jOFp9LeP24\n"
     ]
    }
   ],
   "source": [
    "# Search for the artist\n",
    "def search_artist_spotify(artist_name, token):\n",
    "    \"\"\"Search for an artist on Spotify.\"\"\"\n",
    "    search_url = 'https://api.spotify.com/v1/search'\n",
    "    headers = {\n",
    "        'Authorization': f'Bearer {token}'\n",
    "    }\n",
    "    params = {\n",
    "        'q': artist_name,\n",
    "        'type': 'artist',\n",
    "        'limit': 1\n",
    "    }\n",
    "    response = requests.get(search_url, headers=headers, params=params)\n",
    "    response.raise_for_status()\n",
    "    data = response.json()\n",
    "    if data['artists']['items']:\n",
    "        return data['artists']['items'][0]\n",
    "    else:\n",
    "        raise ValueError(\"Artist not found\")\n",
    "\n",
    "artist_name = 'Repion'\n",
    "artist = search_artist_spotify(artist_name, token)\n",
    "artist_id = artist['id']\n",
    "print(f\"Artist ID: {artist_id}\")"
   ]
  },
  {
   "cell_type": "code",
   "execution_count": 3,
   "metadata": {},
   "outputs": [
    {
     "name": "stdout",
     "output_type": "stream",
     "text": [
      "Artist Details:\n",
      "Name: Repion\n",
      "Genres: indie cantabria\n",
      "Popularity: 33\n",
      "Followers: 7259\n",
      "\n",
      "Albums:\n",
      " - Repion (2023-02-10)\n",
      " - Amapola Dueles (2016-09-19)\n",
      " - La Lágrima Y La Naranja (2014-09-12)\n",
      " - Entre todas lo arreglamos (2024-05-29)\n",
      " - El día no me da (2024-04-04)\n",
      " - Elevarte Caer (2023-08-31)\n",
      " - Pronto (2023-01-19)\n",
      " - Barrio Somavilla (2022-11-10)\n",
      " - Qué Soy Yo Para Tí (2022-09-15)\n",
      " - En Todo Momento (2022-06-22)\n",
      " - Brillante (2022-03-02)\n",
      " - Amor Fantasma (2020-02-28)\n",
      " - Donde Escapa la Luz (2018-11-19)\n",
      " - Las Flores en Invierno (2018-11-16)\n",
      " - Los Noventa (2018-05-29)\n",
      " - Caldo Espírito (2023-10-06)\n",
      " - Felinas (2024-01-12)\n",
      " - Eclipse en Miura (2021-10-29)\n",
      " - No Dudaría (2019-11-15)\n",
      " - Altas Nubes (2021-04-16)\n"
     ]
    }
   ],
   "source": [
    "# Retrieve artist details\n",
    "\n",
    "def get_artist_details(artist_id, token):\n",
    "    \"\"\"Retrieve detailed information about an artist.\"\"\"\n",
    "    artist_url = f'https://api.spotify.com/v1/artists/{artist_id}'\n",
    "    headers = {\n",
    "        'Authorization': f'Bearer {token}'\n",
    "    }\n",
    "    response = requests.get(artist_url, headers=headers)\n",
    "    response.raise_for_status()\n",
    "    return response.json()\n",
    "\n",
    "def get_artist_albums(artist_id, token):\n",
    "    \"\"\"Retrieve all albums by the artist.\"\"\"\n",
    "    albums_url = f'https://api.spotify.com/v1/artists/{artist_id}/albums'\n",
    "    headers = {\n",
    "        'Authorization': f'Bearer {token}'\n",
    "    }\n",
    "    response = requests.get(albums_url, headers=headers)\n",
    "    response.raise_for_status()\n",
    "    return response.json()\n",
    "\n",
    "artist_details = get_artist_details(artist_id, token)\n",
    "albums = get_artist_albums(artist_id, token)\n",
    "\n",
    "print(\"Artist Details:\")\n",
    "print(f\"Name: {artist_details['name']}\")\n",
    "print(f\"Genres: {', '.join(artist_details['genres'])}\")\n",
    "print(f\"Popularity: {artist_details['popularity']}\")\n",
    "print(f\"Followers: {artist_details['followers']['total']}\")\n",
    "\n",
    "print(\"\\nAlbums:\")\n",
    "for album in albums['items']:\n",
    "    print(f\" - {album['name']} ({album['release_date']})\")"
   ]
  },
  {
   "cell_type": "code",
   "execution_count": 5,
   "metadata": {},
   "outputs": [
    {
     "name": "stdout",
     "output_type": "stream",
     "text": [
      "Data exported to Repion_Spotify_Data.txt\n"
     ]
    }
   ],
   "source": [
    "# Export to text file\n",
    "def export_to_txt(file_path, artist_details, albums):\n",
    "    \"\"\"Export artist details and albums to a text file.\"\"\"\n",
    "    with open(file_path, 'w') as file:\n",
    "        file.write(\"Artist Details:\\n\")\n",
    "        file.write(f\"Name: {artist_details['name']}\\n\")\n",
    "        file.write(f\"Genres: {', '.join(artist_details['genres'])}\\n\")\n",
    "        file.write(f\"Popularity: {artist_details['popularity']}\\n\")\n",
    "        file.write(f\"Followers: {artist_details['followers']['total']}\\n\\n\")\n",
    "        \n",
    "        file.write(\"Albums:\\n\")\n",
    "        for album in albums['items']:\n",
    "            file.write(f\" - {album['name']} ({album['release_date']})\\n\")\n",
    "\n",
    "file_path = 'Repion_Spotify_Data.txt'\n",
    "export_to_txt(file_path, artist_details, albums)\n",
    "\n",
    "print(f\"Data exported to {file_path}\")"
   ]
  }
 ],
 "metadata": {
  "kernelspec": {
   "display_name": "venv",
   "language": "python",
   "name": "python3"
  },
  "language_info": {
   "codemirror_mode": {
    "name": "ipython",
    "version": 3
   },
   "file_extension": ".py",
   "mimetype": "text/x-python",
   "name": "python",
   "nbconvert_exporter": "python",
   "pygments_lexer": "ipython3",
   "version": "3.8.2"
  }
 },
 "nbformat": 4,
 "nbformat_minor": 2
}
