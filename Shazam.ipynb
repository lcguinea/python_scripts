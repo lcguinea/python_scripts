{
 "cells": [
  {
   "cell_type": "code",
   "execution_count": 3,
   "metadata": {},
   "outputs": [
    {
     "name": "stdout",
     "output_type": "stream",
     "text": [
      "An error occurred: 'track'\n"
     ]
    }
   ],
   "source": [
    "# Process an audio file and recognize the song using Shazam API\n",
    "\n",
    "import shazamio\n",
    "import asyncio\n",
    "import nest_asyncio\n",
    "from mutagen.easyid3 import EasyID3\n",
    "from mutagen.id3 import ID3, APIC\n",
    "import requests\n",
    "import os\n",
    "\n",
    "nest_asyncio.apply()\n",
    "\n",
    "async def recognize(file_path):\n",
    "    shazam = shazamio.Shazam()\n",
    "    try:\n",
    "        out = await shazam.recognize(file_path)\n",
    "        track_info = out['track']\n",
    "        artist = track_info['subtitle']\n",
    "        title = track_info['title']\n",
    "        new_file_name = f\"{artist} - {title}.mp3\"\n",
    "        \n",
    "        # Download artwork\n",
    "        artwork_url = track_info['images']['coverart']\n",
    "        artwork_data = requests.get(artwork_url).content\n",
    "        \n",
    "        # Update MP3 metadata\n",
    "        audio = EasyID3(file_path)\n",
    "        audio['artist'] = artist\n",
    "        audio['title'] = title\n",
    "        audio.save()\n",
    "        \n",
    "        audio = ID3(file_path)\n",
    "        audio.add(APIC(\n",
    "            encoding=3,  # 3 is for utf-8\n",
    "            mime='image/jpeg',  # image/jpeg or image/png\n",
    "            type=3,  # 3 is for the cover image\n",
    "            desc=u'Cover',\n",
    "            data=artwork_data\n",
    "        ))\n",
    "        audio.save()\n",
    "        \n",
    "        # Rename the file\n",
    "        os.rename(file_path, new_file_name)\n",
    "        print(f\"File renamed to: {new_file_name}\")\n",
    "    except Exception as e:\n",
    "        print(f\"An error occurred: {e}\")\n",
    "\n",
    "if __name__ == \"__main__\":\n",
    "    file_path = input(\"Enter the path to the audio file: \")\n",
    "    asyncio.run(recognize(file_path))"
   ]
  },
  {
   "cell_type": "code",
   "execution_count": 1,
   "metadata": {},
   "outputs": [
    {
     "name": "stderr",
     "output_type": "stream",
     "text": [
      "/Users/luisguinea/Documents/Pruebas/venv/lib/python3.9/site-packages/urllib3/__init__.py:35: NotOpenSSLWarning: urllib3 v2 only supports OpenSSL 1.1.1+, currently the 'ssl' module is compiled with 'LibreSSL 2.8.3'. See: https://github.com/urllib3/urllib3/issues/3020\n",
      "  warnings.warn(\n"
     ]
    },
    {
     "name": "stdout",
     "output_type": "stream",
     "text": [
      "File renamed to: Swedish House Mafia, The Weeknd & Moojo - Moth To A Flame (Moojo Remix).mp3\n",
      "File renamed to: La Santa Music - Bunyi.mp3\n",
      "File renamed to: La Santa Music - Bombo.mp3\n",
      "File renamed to: La Santa Music & Augusto Yepes - Kalima.mp3\n",
      "File renamed to: La Santa Music, Peter Guzman & ANDREATENS - Mi Vida.mp3\n",
      "File renamed to: La Santa Music & Blueheist - Malik.mp3\n",
      "File renamed to: La Santa Music & Blueheist - Kala.mp3\n",
      "File renamed to: La Santa Music & Vuyo Brown - Love Me Now.mp3\n",
      "File renamed to: La Santa Music & Blueheist - Arya.mp3\n",
      "File renamed to: La Santa Music & G.Zamora - Oasis (Safar (Fr) Remix).mp3\n",
      "File renamed to: La Santa Music & Coco - Parle Moi.mp3\n",
      "File renamed to: Cosmic Bambino, La Santa Music & Jinadu - Immeasurable Light (D-Formation Remix).mp3\n"
     ]
    }
   ],
   "source": [
    "# Process all MP3 files in a folder\n",
    "\n",
    "import shazamio\n",
    "import asyncio\n",
    "import nest_asyncio\n",
    "from mutagen.easyid3 import EasyID3\n",
    "from mutagen.id3 import ID3, APIC\n",
    "import requests\n",
    "import os\n",
    "\n",
    "nest_asyncio.apply()\n",
    "\n",
    "async def recognize(file_path):\n",
    "    shazam = shazamio.Shazam()\n",
    "    try:\n",
    "        out = await shazam.recognize(file_path)\n",
    "        track_info = out['track']\n",
    "        artist = track_info['subtitle']\n",
    "        title = track_info['title']\n",
    "        new_file_name = f\"{artist} - {title}.mp3\"\n",
    "        \n",
    "        # Download artwork\n",
    "        artwork_url = track_info['images']['coverart']\n",
    "        artwork_data = requests.get(artwork_url).content\n",
    "        \n",
    "        # Update MP3 metadata\n",
    "        audio = EasyID3(file_path)\n",
    "        audio['artist'] = artist\n",
    "        audio['title'] = title\n",
    "        audio.save()\n",
    "        \n",
    "        audio = ID3(file_path)\n",
    "        audio.add(APIC(\n",
    "            encoding=3,  # 3 is for utf-8\n",
    "            mime='image/jpeg',  # image/jpeg or image/png\n",
    "            type=3,  # 3 is for the cover image\n",
    "            desc=u'Cover',\n",
    "            data=artwork_data\n",
    "        ))\n",
    "        audio.save()\n",
    "        \n",
    "        # Rename the file\n",
    "        new_file_path = os.path.join(os.path.dirname(file_path), new_file_name)\n",
    "        os.rename(file_path, new_file_path)\n",
    "        print(f\"File renamed to: {new_file_name}\")\n",
    "    except Exception as e:\n",
    "        print(f\"An error occurred: {e}\")\n",
    "\n",
    "async def process_folder(folder_path):\n",
    "    tasks = []\n",
    "    for file_name in os.listdir(folder_path):\n",
    "        if file_name.endswith('.mp3'):\n",
    "            file_path = os.path.join(folder_path, file_name)\n",
    "            tasks.append(recognize(file_path))\n",
    "    await asyncio.gather(*tasks)\n",
    "\n",
    "if __name__ == \"__main__\":\n",
    "    folder_path = input(\"Enter the path to the folder containing MP3 files: \")\n",
    "    asyncio.run(process_folder(folder_path))"
   ]
  }
 ],
 "metadata": {
  "kernelspec": {
   "display_name": "venv",
   "language": "python",
   "name": "python3"
  },
  "language_info": {
   "codemirror_mode": {
    "name": "ipython",
    "version": 3
   },
   "file_extension": ".py",
   "mimetype": "text/x-python",
   "name": "python",
   "nbconvert_exporter": "python",
   "pygments_lexer": "ipython3",
   "version": "3.9.6"
  }
 },
 "nbformat": 4,
 "nbformat_minor": 2
}
