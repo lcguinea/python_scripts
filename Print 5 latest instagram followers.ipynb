{
 "cells": [
  {
   "cell_type": "code",
   "execution_count": 1,
   "metadata": {},
   "outputs": [
    {
     "name": "stdout",
     "output_type": "stream",
     "text": [
      "Saved session to soyluisguinea.\n",
      "yo_ananda\n",
      "celinemireillesings\n",
      "aboudibarhoum\n",
      "sebnoriegaa\n",
      "astralsynthesizer\n"
     ]
    }
   ],
   "source": [
    "import instaloader\n",
    "\n",
    "# Create an instance of Instaloader\n",
    "L = instaloader.Instaloader()\n",
    "\n",
    "# Function to login\n",
    "def login(username, password):\n",
    "    L.login(username, password)\n",
    "    # Save session after successful login\n",
    "    L.save_session_to_file(username)\n",
    "\n",
    "# Load session if available, otherwise login\n",
    "try:\n",
    "    L.load_session_from_file('soyluisguinea')\n",
    "except FileNotFoundError:\n",
    "    login('soyluisguinea', 'I2n5s0t8')\n",
    "\n",
    "# Load your profile\n",
    "profile = instaloader.Profile.from_username(L.context, 'soyluisguinea')\n",
    "\n",
    "# Get the latest 5 followers\n",
    "latest_followers = list(profile.get_followers())[:5]\n",
    "\n",
    "# Print the usernames of the latest 5 followers\n",
    "for user in latest_followers:\n",
    "    print(user.username)\n"
   ]
  },
  {
   "cell_type": "code",
   "execution_count": null,
   "metadata": {},
   "outputs": [],
   "source": []
  }
 ],
 "metadata": {
  "kernelspec": {
   "display_name": "venv",
   "language": "python",
   "name": "python3"
  },
  "language_info": {
   "codemirror_mode": {
    "name": "ipython",
    "version": 3
   },
   "file_extension": ".py",
   "mimetype": "text/x-python",
   "name": "python",
   "nbconvert_exporter": "python",
   "pygments_lexer": "ipython3",
   "version": "3.8.2"
  }
 },
 "nbformat": 4,
 "nbformat_minor": 2
}
