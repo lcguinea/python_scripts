{
 "cells": [
  {
   "cell_type": "code",
   "execution_count": 2,
   "metadata": {},
   "outputs": [
    {
     "name": "stdout",
     "output_type": "stream",
     "text": [
      "Traducción completada y guardada en /Users/luisguinea/Desktop/1_translated.txt\n"
     ]
    }
   ],
   "source": [
    "from deep_translator import GoogleTranslator\n",
    "\n",
    "# Ruta del archivo\n",
    "file_path = input(\"Introduce la ruta del archivo a traducir: \")\n",
    "\n",
    "# Leer el contenido del archivo con la codificación correcta\n",
    "with open(file_path, 'r', encoding='latin-1') as file:\n",
    "    text = file.read()\n",
    "\n",
    "# Función para dividir el texto en fragmentos más pequeños\n",
    "def split_text(text, max_length):\n",
    "    words = text.split()\n",
    "    chunks = []\n",
    "    chunk = []\n",
    "    length = 0\n",
    "    for word in words:\n",
    "        if length + len(word) + 1 > max_length:\n",
    "            chunks.append(' '.join(chunk))\n",
    "            chunk = []\n",
    "            length = 0\n",
    "        chunk.append(word)\n",
    "        length += len(word) + 1\n",
    "    if chunk:\n",
    "        chunks.append(' '.join(chunk))\n",
    "    return chunks\n",
    "\n",
    "try:\n",
    "    # Dividir el texto en fragmentos de hasta 5000 caracteres\n",
    "    chunks = split_text(text, 5000)\n",
    "    translated_chunks = []\n",
    "\n",
    "    # Traducir cada fragmento\n",
    "    for chunk in chunks:\n",
    "        translated_chunk = GoogleTranslator(source='es', target='en').translate(chunk)\n",
    "        translated_chunks.append(translated_chunk)\n",
    "\n",
    "    # Unir los fragmentos traducidos\n",
    "    translated_text = ' '.join(translated_chunks)\n",
    "\n",
    "    # Guardar el texto traducido en un nuevo archivo\n",
    "    with open('/Users/luisguinea/Desktop/1_translated.txt', 'w', encoding='utf-8') as file:\n",
    "        file.write(translated_text)\n",
    "    print(\"Traducción completada y guardada en /Users/luisguinea/Desktop/1_translated.txt\")\n",
    "except Exception as e:\n",
    "    print(f\"Error al traducir: {e}\")"
   ]
  },
  {
   "cell_type": "code",
   "execution_count": null,
   "metadata": {},
   "outputs": [],
   "source": []
  }
 ],
 "metadata": {
  "kernelspec": {
   "display_name": "venv",
   "language": "python",
   "name": "python3"
  },
  "language_info": {
   "codemirror_mode": {
    "name": "ipython",
    "version": 3
   },
   "file_extension": ".py",
   "mimetype": "text/x-python",
   "name": "python",
   "nbconvert_exporter": "python",
   "pygments_lexer": "ipython3",
   "version": "3.9.6"
  }
 },
 "nbformat": 4,
 "nbformat_minor": 2
}
